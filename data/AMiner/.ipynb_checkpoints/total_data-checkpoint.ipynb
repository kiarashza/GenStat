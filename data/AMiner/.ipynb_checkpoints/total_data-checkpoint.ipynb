{
 "cells": [
  {
   "cell_type": "code",
   "execution_count": 6,
   "metadata": {},
   "outputs": [],
   "source": [
    "import pandas as pd\n",
    "from scipy.sparse import csr_matrix\n",
    "import numpy as np"
   ]
  },
  {
   "cell_type": "code",
   "execution_count": 7,
   "metadata": {},
   "outputs": [],
   "source": [
    "from nltk.corpus import stopwords"
   ]
  },
  {
   "cell_type": "code",
   "execution_count": 8,
   "metadata": {},
   "outputs": [],
   "source": [
    "sp = stopwords.words('english')"
   ]
  },
  {
   "cell_type": "code",
   "execution_count": 9,
   "metadata": {},
   "outputs": [],
   "source": [
    "# 1. adjacency matrix 만들기\n",
    "# 2. feature vector 만들기\n",
    "# 3. train/valid/test 나누기"
   ]
  },
  {
   "cell_type": "code",
   "execution_count": 10,
   "metadata": {},
   "outputs": [],
   "source": [
    "from scipy import io\n",
    "\n",
    "mat_file = io.loadmat('DBLP4057_GAT_with_idx.mat')"
   ]
  },
  {
   "cell_type": "code",
   "execution_count": 12,
   "metadata": {},
   "outputs": [],
   "source": [
    "author_idx = list(mat_file['train_idx'][0])+list(mat_file['val_idx'][0])+list(mat_file['test_idx'][0])"
   ]
  },
  {
   "cell_type": "markdown",
   "metadata": {},
   "source": [
    "### 1. Adjacency Matrix"
   ]
  },
  {
   "cell_type": "code",
   "execution_count": 13,
   "metadata": {},
   "outputs": [],
   "source": [
    "# author, paper, conference, term 하나의 dictionary로 만들기\n",
    "total_count = 0\n",
    "# author\n",
    "idx2authorname = {}\n",
    "author2idx = {}\n",
    "author_label = []\n",
    "with open('author_label.txt', 'r') as f:\n",
    "    lines = f.readlines()\n",
    "    for i,j in enumerate(author_idx):\n",
    "        i += total_count\n",
    "        line = lines[j]\n",
    "        line = line.strip('\\n').split('\\t')\n",
    "        idx = len(author2idx)\n",
    "        author2idx[int(line[0])] = idx\n",
    "        idx2authorname[idx] = line[2]\n",
    "        author_label.append([idx,int(line[1])])\n",
    "total_count += len(author2idx)\n",
    "\n",
    "paper2idx = {}\n",
    "with open('paper_author.txt', 'r') as f:\n",
    "    lines = f.readlines()\n",
    "    for i, line in enumerate(lines):\n",
    "        line = line.strip('\\n').split('\\t')\n",
    "        try:\n",
    "            author = author2idx[int(line[1])]\n",
    "            if int(line[0]) not in paper2idx:\n",
    "                paper2idx[int(line[0])] = len(paper2idx)+total_count\n",
    "        except:\n",
    "            pass"
   ]
  },
  {
   "cell_type": "code",
   "execution_count": 14,
   "metadata": {},
   "outputs": [
    {
     "data": {
      "text/plain": [
       "14328"
      ]
     },
     "execution_count": 14,
     "metadata": {},
     "output_type": "execute_result"
    }
   ],
   "source": [
    "len(paper2idx)"
   ]
  },
  {
   "cell_type": "code",
   "execution_count": 15,
   "metadata": {},
   "outputs": [],
   "source": [
    "idx2papername = {}\n",
    "# paper\n",
    "with open('paper2.txt', 'r') as f:\n",
    "    lines = f.readlines()\n",
    "    for i, line in enumerate(lines):\n",
    "        line = line.strip('\\n').split('\\t')\n",
    "        try:\n",
    "            idx2papername[paper2idx[int(line[0])]] = line[1]\n",
    "        except:\n",
    "            pass\n",
    "total_count += len(paper2idx)\n",
    "idx2confname = {}\n",
    "conf2idx = {}\n",
    "# conf\n",
    "with open('conf.txt', 'r') as f:\n",
    "    lines = f.readlines()\n",
    "    for i, line in enumerate(lines):\n",
    "        i += total_count\n",
    "        line = line.strip('\\n').split('\\t')\n",
    "        conf2idx[int(line[0])] = i\n",
    "        idx2confname[i] = line[1]\n",
    "total_count += len(conf2idx)\n"
   ]
  },
  {
   "cell_type": "code",
   "execution_count": 16,
   "metadata": {},
   "outputs": [],
   "source": [
    "import pickle\n",
    "with open('term_vocab_334.pkl','rb') as f:\n",
    "    term_vocab_334 = pickle.load(f)\n",
    "term2idx = {}\n",
    "idx2termname = {}\n",
    "with open('term.txt', 'r') as f:\n",
    "    lines = f.readlines()\n",
    "    i=total_count\n",
    "    for term in term_vocab_334:\n",
    "        for line in lines:\n",
    "            line = line.strip('\\n').split('\\t')\n",
    "            if line[1] == term:\n",
    "                term2idx[int(line[0])] = len(term2idx)+total_count\n",
    "                idx2termname[term2idx[int(line[0])]] = line[1]\n",
    "                break"
   ]
  },
  {
   "cell_type": "code",
   "execution_count": 17,
   "metadata": {},
   "outputs": [],
   "source": [
    "idx2name = {**idx2authorname, **idx2papername, **idx2confname, **idx2termname} "
   ]
  },
  {
   "cell_type": "code",
   "execution_count": 20,
   "metadata": {},
   "outputs": [
    {
     "data": {
      "text/plain": [
       "4057"
      ]
     },
     "execution_count": 20,
     "metadata": {},
     "output_type": "execute_result"
    }
   ],
   "source": [
    "len(idx2authorname)"
   ]
  },
  {
   "cell_type": "code",
   "execution_count": 21,
   "metadata": {},
   "outputs": [
    {
     "data": {
      "text/plain": [
       "14328"
      ]
     },
     "execution_count": 21,
     "metadata": {},
     "output_type": "execute_result"
    }
   ],
   "source": [
    "len(idx2papername)"
   ]
  },
  {
   "cell_type": "code",
   "execution_count": 22,
   "metadata": {},
   "outputs": [
    {
     "data": {
      "text/plain": [
       "20"
      ]
     },
     "execution_count": 22,
     "metadata": {},
     "output_type": "execute_result"
    }
   ],
   "source": [
    "len(idx2confname)"
   ]
  },
  {
   "cell_type": "code",
   "execution_count": 23,
   "metadata": {},
   "outputs": [
    {
     "data": {
      "text/plain": [
       "334"
      ]
     },
     "execution_count": 23,
     "metadata": {},
     "output_type": "execute_result"
    }
   ],
   "source": [
    "len(idx2termname)"
   ]
  },
  {
   "cell_type": "code",
   "execution_count": 24,
   "metadata": {},
   "outputs": [
    {
     "data": {
      "text/plain": [
       "18405"
      ]
     },
     "execution_count": 24,
     "metadata": {},
     "output_type": "execute_result"
    }
   ],
   "source": [
    "len(idx2authorname)+len(idx2papername)+len(idx2confname)"
   ]
  },
  {
   "cell_type": "code",
   "execution_count": 25,
   "metadata": {},
   "outputs": [
    {
     "name": "stdout",
     "output_type": "stream",
     "text": [
      "19645\n",
      "14328\n",
      "49931\n"
     ]
    }
   ],
   "source": [
    "# p-a\n",
    "indices_pa= []\n",
    "with open('paper_author.txt', 'r') as f:\n",
    "    lines = f.readlines()\n",
    "    for i, line in enumerate(lines):\n",
    "        line = line.strip('\\n').split('\\t')\n",
    "        try:\n",
    "            paper = paper2idx[int(line[0])]\n",
    "            author = author2idx[int(line[1])]\n",
    "            indices_pa.append([paper,author])\n",
    "        except:\n",
    "            pass\n",
    "pa_num=len(indices_pa)\n",
    "print(pa_num)\n",
    "\n",
    "# p-c\n",
    "indices_pc= []\n",
    "with open('paper_conf.txt', 'r') as f:\n",
    "    lines = f.readlines()\n",
    "    for i, line in enumerate(lines):\n",
    "        line = line.strip('\\n').split('\\t')\n",
    "        try:\n",
    "            indices_pc.append([paper2idx[int(line[0])],conf2idx[int(line[1])]])\n",
    "        except:\n",
    "            pass\n",
    "pc_num = len(indices_pc)\n",
    "print(pc_num)\n",
    "# p-t\n",
    "indices_pt= []\n",
    "with open('paper_term.txt', 'r') as f:\n",
    "    lines = f.readlines()\n",
    "    for i, line in enumerate(lines):\n",
    "        line = line.strip('\\n').split('\\t')\n",
    "        try:\n",
    "            indices_pt.append([paper2idx[int(line[0])],term2idx[int(line[1])]])\n",
    "        except:\n",
    "            pass\n",
    "pt_num = len(indices_pt)\n",
    "print(pt_num)"
   ]
  },
  {
   "cell_type": "code",
   "execution_count": 27,
   "metadata": {},
   "outputs": [],
   "source": [
    "# A_pa\n",
    "row = np.array(indices_pa)[:,0]\n",
    "col = np.array(indices_pa)[:,1]\n",
    "data = np.ones_like(row)\n",
    "A_pa = csr_matrix((data, (row, col)), shape=(len(idx2name), len(idx2name)))\n",
    "# A_pc\n",
    "row = np.array(indices_pc)[:,0]\n",
    "col = np.array(indices_pc)[:,1]\n",
    "data = np.ones_like(row)\n",
    "A_pc = csr_matrix((data, (row, col)), shape=(len(idx2name), len(idx2name)))\n",
    "# A_pt\n",
    "row = np.array(indices_pt)[:,0]\n",
    "col = np.array(indices_pt)[:,1]\n",
    "data = np.ones_like(row)\n",
    "A_pt = csr_matrix((data, (row, col)), shape=(len(idx2name), len(idx2name)))"
   ]
  },
  {
   "cell_type": "code",
   "execution_count": 29,
   "metadata": {},
   "outputs": [],
   "source": [
    "A_ap = A_pa.T\n",
    "A_cp = A_pc.T\n",
    "A_tp = A_pt.T"
   ]
  },
  {
   "cell_type": "markdown",
   "metadata": {},
   "source": [
    "## node feature"
   ]
  },
  {
   "cell_type": "code",
   "execution_count": 30,
   "metadata": {},
   "outputs": [],
   "source": [
    "feature = (A_ap*A_pt).todense()[:4057,-334:]\n",
    "author_feature = np.array(feature > 0, dtype=np.int32)"
   ]
  },
  {
   "cell_type": "code",
   "execution_count": 31,
   "metadata": {},
   "outputs": [],
   "source": [
    "total_idx = list(mat_file['train_idx'][0])+list(mat_file['val_idx'][0])+list(mat_file['test_idx'][0])\n",
    "mat_feature = mat_file['features'][total_idx]"
   ]
  },
  {
   "cell_type": "code",
   "execution_count": 32,
   "metadata": {},
   "outputs": [
    {
     "data": {
      "text/plain": [
       "64"
      ]
     },
     "execution_count": 32,
     "metadata": {},
     "output_type": "execute_result"
    }
   ],
   "source": [
    "np.sum(author_feature != (mat_file['features'])[total_idx])"
   ]
  },
  {
   "cell_type": "code",
   "execution_count": 33,
   "metadata": {},
   "outputs": [],
   "source": [
    "paper_feature = np.array(A_pt.todense()[4057:-354,-334:]>0, dtype=np.int32)"
   ]
  },
  {
   "cell_type": "code",
   "execution_count": 34,
   "metadata": {},
   "outputs": [],
   "source": [
    "feature = (A_cp*A_pt).todense()[-354:-334,-334:]\n",
    "conf_feature = np.array(feature > 0, dtype=np.int32)"
   ]
  },
  {
   "cell_type": "code",
   "execution_count": 35,
   "metadata": {},
   "outputs": [],
   "source": [
    "node_feature = np.concatenate([author_feature,paper_feature,conf_feature], axis=0)"
   ]
  },
  {
   "cell_type": "code",
   "execution_count": 36,
   "metadata": {},
   "outputs": [],
   "source": [
    "with open('total_node_features.pkl', 'wb') as f:\n",
    "    pickle.dump(node_feature, f)"
   ]
  },
  {
   "cell_type": "markdown",
   "metadata": {},
   "source": [
    "## Adjacency Matrix"
   ]
  },
  {
   "cell_type": "code",
   "execution_count": 39,
   "metadata": {},
   "outputs": [],
   "source": [
    "number = len(idx2authorname)+len(idx2papername)+len(idx2confname)"
   ]
  },
  {
   "cell_type": "code",
   "execution_count": 40,
   "metadata": {},
   "outputs": [
    {
     "data": {
      "text/plain": [
       "(18739, 18739)"
      ]
     },
     "execution_count": 40,
     "metadata": {},
     "output_type": "execute_result"
    }
   ],
   "source": [
    "A_pa.shape"
   ]
  },
  {
   "cell_type": "code",
   "execution_count": 41,
   "metadata": {},
   "outputs": [],
   "source": [
    "edges = [A_pa[:number,:number],A_ap[:number,:number],A_pc[:number,:number],A_cp[:number,:number]]\n",
    "with open('total_edges.pkl','wb') as f:\n",
    "    pickle.dump(edges, f)"
   ]
  },
  {
   "cell_type": "markdown",
   "metadata": {},
   "source": [
    "## Label"
   ]
  },
  {
   "cell_type": "code",
   "execution_count": 273,
   "metadata": {},
   "outputs": [
    {
     "data": {
      "text/plain": [
       "800"
      ]
     },
     "execution_count": 273,
     "metadata": {},
     "output_type": "execute_result"
    }
   ],
   "source": [
    "len(author_label[:800])"
   ]
  },
  {
   "cell_type": "code",
   "execution_count": 42,
   "metadata": {},
   "outputs": [],
   "source": [
    "labels = [author_label[:800],author_label[800:1200],author_label[1200:]]\n",
    "with open('total_labels.pkl','wb') as f:\n",
    "    pickle.dump(labels, f)"
   ]
  },
  {
   "cell_type": "code",
   "execution_count": null,
   "metadata": {},
   "outputs": [],
   "source": []
  }
 ],
 "metadata": {
  "kernelspec": {
   "display_name": "Python 3",
   "language": "python",
   "name": "python3"
  },
  "language_info": {
   "codemirror_mode": {
    "name": "ipython",
    "version": 3
   },
   "file_extension": ".py",
   "mimetype": "text/x-python",
   "name": "python",
   "nbconvert_exporter": "python",
   "pygments_lexer": "ipython3",
   "version": "3.7.1"
  }
 },
 "nbformat": 4,
 "nbformat_minor": 2
}
